{
 "cells": [
  {
   "cell_type": "markdown",
   "metadata": {},
   "source": [
    "## Preparing Text for Clustering"
   ]
  },
  {
   "cell_type": "code",
   "execution_count": 1,
   "metadata": {},
   "outputs": [
    {
     "name": "stdout",
     "output_type": "stream",
     "text": [
      "\n",
      "Sample hashtag data :\n",
      "                            Course                             HashTags\n",
      "0  Apache Spark Essential Training  BigData,DataScience,MachineLearning\n",
      "1           Java Memory Management            Java,Advanced,Programming\n",
      "\n",
      " Feature names Identified :\n",
      "\n",
      "['advanced', 'automation', 'bigdata', 'datascience', 'design', 'developer', 'gcp', 'graphics', 'hadoop', 'ide', 'intermediate', 'java', 'jdbc', 'kubernetes', 'machinelearning', 'patterns', 'programming', 'python', 'scala', 'scripting']\n"
     ]
    }
   ],
   "source": [
    "import pandas as pd\n",
    "\n",
    "#Load the file course hashtags\n",
    "\n",
    "\n",
    "#Seperate Hashtags and titles to lists\n",
    "\n",
    "\n",
    "#Do TF-IDF conversion of hashtags\n"
   ]
  },
  {
   "cell_type": "markdown",
   "metadata": {},
   "source": [
    "## Cluster using the TF-IDF data as features"
   ]
  },
  {
   "cell_type": "code",
   "execution_count": 2,
   "metadata": {},
   "outputs": [
    {
     "name": "stdout",
     "output_type": "stream",
     "text": [
      "\n",
      "Group :  0 \n",
      "-------------------\n",
      "Apache Spark Essential Training\n",
      "Machine Learning and AI Foundations\n",
      "Hadoop for Data Science\n",
      "Data Science on Google Cloud Platform\n",
      "Scala for Data Science\n",
      "\n",
      "Group :  1 \n",
      "-------------------\n",
      "Java Memory Management\n",
      "Java : Database Integration and JDBC\n",
      "R Programming\n",
      "Java IDE Overview\n",
      "Kubernetes for Java Developers\n",
      "\n",
      "Group :  2 \n",
      "-------------------\n",
      "Python Automation and Testing\n",
      "Python for Graphics\n",
      "Python Design Patterns\n",
      "Python Scripting\n"
     ]
    }
   ],
   "source": [
    "#Use KMeans clustering from scikit-learn\n",
    "\n",
    "\n",
    "#Split data into 3 clusters\n",
    "\n",
    "\n",
    "#get Cluster labels.\n",
    "\n",
    "\n",
    "#Print cluster label and Courses under each cluster\n",
    "\n",
    "    "
   ]
  },
  {
   "cell_type": "markdown",
   "metadata": {},
   "source": [
    "## Elbow Method: Finding optimal Cluster size"
   ]
  },
  {
   "cell_type": "code",
   "execution_count": 3,
   "metadata": {},
   "outputs": [
    {
     "name": "stdout",
     "output_type": "stream",
     "text": [
      "Sum of squared distances :  [11.433022387031059, 9.055813116540266, 6.7610661721912155, 5.6283212260073165, 4.688883377604405, 4.356506907632284, 3.3963237828149833, 2.8674834806702174, 2.289111342035165, 1.807779789051295, 1.3264482360674248, 0.8457910455266846, 0.40164181287464107, 2.220446049250313e-16]\n"
     ]
    },
    {
     "data": {
      "image/png": "[encoded data removed]",
      "text/plain": [
       "<Figure size 432x288 with 1 Axes>"
      ]
     },
     "metadata": {
      "needs_background": "light"
     },
     "output_type": "display_data"
    }
   ],
   "source": [
    "#Find optimal cluster size by finding sum-of-squared-distances\n",
    "\n",
    "#Run clustering for sizes 1 to 15 and capture (inertia)sum-of-squared-distances\n",
    "\n",
    "#Plot sum-of-squared-distances against number of clusters\n",
    "\n"
   ]
  },
  {
   "cell_type": "code",
   "execution_count": null,
   "metadata": {},
   "outputs": [],
   "source": []
  }
 ],
 "metadata": {
  "kernelspec": {
   "display_name": "Python 3 (ipykernel)",
   "language": "python",
   "name": "python3"
  },
  "language_info": {
   "codemirror_mode": {
    "name": "ipython",
    "version": 3
   },
   "file_extension": ".py",
   "mimetype": "text/x-python",
   "name": "python",
   "nbconvert_exporter": "python",
   "pygments_lexer": "ipython3",
   "version": "3.9.7"
  }
 },
 "nbformat": 4,
 "nbformat_minor": 2
}
