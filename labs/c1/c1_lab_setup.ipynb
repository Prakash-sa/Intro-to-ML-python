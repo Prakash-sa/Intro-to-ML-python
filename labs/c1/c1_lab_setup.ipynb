{
 "cells": [
  {
   "cell_type": "markdown",
   "metadata": {},
   "source": [
    "# What Is A Jupyter Notebook?\n",
    "\n",
    "Jupyter is a programmer’s notebook containing both codes and images, hyperlinks, or other “Rich text elements.” A Jupyter notebook may also have tables and cells for importing code and live data analysis.\n",
    "\n",
    "Although Julia, Python, and R were the first languages that Jupyter notebook was built to support (and named after), new versions offer support for multiple programming languages.\n",
    "\n",
    "# Installing Jupyter\n",
    "\n",
    "Installing Jupyter notebook is often done using packages from package managers. The method differs depending on whether you’re using Windows or OS X.\n",
    "\n",
    "In either case, you’ll need to have python has been pre-installed on the machine.\n",
    "\n",
    "If you need to install python, make sure you check for the latest version on the Python website. The website has full instructions to download and install python 3, as well as new releases.\n",
    "\n",
    "You can also install Python using Anaconda, which will provide a rich environment on your notebook with prebuilt packages distributed. Anaconda is available for download on the official Anaconda website – both new and old distributions of Anaconda are available.\n",
    "\n",
    "Complete installation instructions for Anaconda and additional packages are available to download on the Anaconda website as well."
   ]
  },
  {
   "cell_type": "markdown",
   "metadata": {},
   "source": [
    "# Windows Users\n",
    "\n",
    "For Windows users, installing a new instance of Jupyter is simple.\n",
    "\n",
    "First, check to make sure you have python installed on your machine and ready to use. Check if Python is installed on your machine in three simple steps:\n",
    "\n",
    "Open a new instance of PowerShell. You can also use the anaconda terminal to run python 3 (or any other version).\n",
    "\n",
    "Once the terminal has started running, type the following command:\n",
    "\n"
   ]
  },
  {
   "cell_type": "code",
   "execution_count": 4,
   "metadata": {},
   "outputs": [
    {
     "name": "stdout",
     "output_type": "stream",
     "text": [
      "Python 3.8.5\r\n"
     ]
    }
   ],
   "source": [
    "!python --version"
   ]
  },
  {
   "cell_type": "markdown",
   "metadata": {},
   "source": [
    "If successful, PowerShell will echo with the python version printed on the terminal. If you see an error, either you do not have python installed, or python has not yet been added to the path.\n",
    "\n",
    "Make sure you have the latest Python 3 version for the best Jupyter notebook coding environment. \n",
    "\n",
    "Once you have your python environment ready, you can use either the pip or the conda packet manager to install Jupyter on your machine. Other packages exist, but these are the most straightforward to use for new user installation."
   ]
  },
  {
   "cell_type": "markdown",
   "metadata": {},
   "source": [
    "##  Anaconda Distribution\n",
    "\n",
    "Anaconda is a distribution of the Python and R programming languages for scientific computing (data science, machine learning applications, large-scale data processing, predictive analytics, etc.), that aims to simplify package management and deployment. The distribution includes data-science packages suitable for Windows, Linux, and macOS. It is developed and maintained by Anaconda, Inc., which was founded by Peter Wang and Travis Oliphant in 2012. As an Anaconda, Inc. product, it is also known as Anaconda Distribution or Anaconda Individual Edition, while other products from the company are Anaconda Team Edition and Anaconda Enterprise Edition, both of which are not free.\n",
    "\n",
    "## Install Python using conda\n",
    "\n",
    "The first option is using conda. Conda is an open-source, cross-platform package manager which comes pre-packaged with Anaconda’s packages. The conda package manager will provide you the command to install the Jupyter notebook for you.\n",
    "\n",
    "On the command line, type:"
   ]
  },
  {
   "cell_type": "code",
   "execution_count": null,
   "metadata": {},
   "outputs": [],
   "source": [
    "conda install -c conda-forge jupyterlab"
   ]
  },
  {
   "cell_type": "markdown",
   "metadata": {},
   "source": [
    "If successful, the Jupyter notebook will be installed on your machine and ready to use. You can now start Jupyter notebook using any of the following commands:\n",
    "\n"
   ]
  },
  {
   "cell_type": "code",
   "execution_count": null,
   "metadata": {},
   "outputs": [],
   "source": [
    "python -m notebook\n",
    "jupyter notebook"
   ]
  },
  {
   "cell_type": "markdown",
   "metadata": {},
   "source": [
    "## Install Using Pip\n",
    "The other most popular package manager is Pip. Pip comes pre-packaged with the latest version of Python 3.\n",
    "\n",
    "Check to see if you have the latest python version installed as before.\n",
    "\n",
    "## Verify Pip Version\n",
    "You can see your pip version from the command line using:"
   ]
  },
  {
   "cell_type": "code",
   "execution_count": 6,
   "metadata": {},
   "outputs": [
    {
     "name": "stdout",
     "output_type": "stream",
     "text": [
      "pip 20.2.4 from /Users/j0v00i0/opt/anaconda3/lib/python3.8/site-packages/pip (python 3.8)\r\n"
     ]
    }
   ],
   "source": [
    "!pip --version"
   ]
  },
  {
   "cell_type": "markdown",
   "metadata": {},
   "source": [
    "## Start Jupyter\n",
    "Once you have pip ready, make sure you have Pip added to your PATH environment variable in your library. \n",
    "\n",
    "Now, run the following command on the terminal to start Jupyter:"
   ]
  },
  {
   "cell_type": "code",
   "execution_count": null,
   "metadata": {},
   "outputs": [],
   "source": [
    "pip install jupyterlab"
   ]
  },
  {
   "cell_type": "markdown",
   "metadata": {},
   "source": [
    "This will successfully download once you click install. After the installation has finished, launch JupyterLab with:"
   ]
  },
  {
   "cell_type": "code",
   "execution_count": null,
   "metadata": {},
   "outputs": [],
   "source": [
    "jupyter-lab"
   ]
  },
  {
   "cell_type": "markdown",
   "metadata": {},
   "source": [
    "Once you start Jupyter, you’re all set to create new notebooks, start a project, and create a coding environment of your choice.\n",
    "\n",
    "If you’re not sure where to start, head over to Jupyter’s website for official documentation. \n",
    "\n"
   ]
  },
  {
   "cell_type": "markdown",
   "metadata": {},
   "source": [
    "# Mac Users\n",
    "For Mac users getting started with Jupyter, creating notebooks may seem complicated – but it’s not.\n",
    "\n",
    "As with the Windows installation, you’ll need a package manager so that you can install both Python 3 and Jupyter. Python 3 is required as the latest notebooks are not optimized for older python versions."
   ]
  },
  {
   "cell_type": "markdown",
   "metadata": {},
   "source": [
    "Instead of anaconda, we will install Jupyter Notebook using Homebrew for Mac OS. \n",
    "\n",
    "## Step 1: Install XCode Command Line Tools\n",
    "\n",
    "First, install XCode command-line tools:\n",
    "\n",
    "Open terminal and type:"
   ]
  },
  {
   "cell_type": "code",
   "execution_count": null,
   "metadata": {},
   "outputs": [],
   "source": [
    "xcode-select --install"
   ]
  },
  {
   "cell_type": "markdown",
   "metadata": {},
   "source": [
    "## Step 2: Verify Installation and Environment Path\n",
    "Verify your xCode installation by typing:"
   ]
  },
  {
   "cell_type": "code",
   "execution_count": 7,
   "metadata": {},
   "outputs": [
    {
     "name": "stdout",
     "output_type": "stream",
     "text": [
      "/Library/Developer/CommandLineTools\r\n"
     ]
    }
   ],
   "source": [
    "!xcode-select -p"
   ]
  },
  {
   "cell_type": "markdown",
   "metadata": {},
   "source": [
    "If the shell echos an environment path to “CommaldLineTools,” it means you can now install and open python. If not, you need to install Xcode again."
   ]
  },
  {
   "cell_type": "markdown",
   "metadata": {},
   "source": [
    "## Step 3: Install Homebrew\n",
    "Copy the following command on your shell and execute:"
   ]
  },
  {
   "cell_type": "code",
   "execution_count": null,
   "metadata": {},
   "outputs": [],
   "source": [
    "/usr/bin/ruby -e \"$(curl -fsSL https://raw.githubusercontent.com/Homebrew/install/master/install)\""
   ]
  },
  {
   "cell_type": "markdown",
   "metadata": {},
   "source": [
    "## Step 4: Install Python\n",
    "Now run the following command:"
   ]
  },
  {
   "cell_type": "code",
   "execution_count": null,
   "metadata": {},
   "outputs": [],
   "source": [
    "pyenv install 3.x.x"
   ]
  },
  {
   "cell_type": "markdown",
   "metadata": {},
   "source": [
    "This will install the latest python version. You will require Python version 3.x.x to utilize the latest Jupyter Notebook updates.\n",
    "\n",
    "## Step 5: Install Jupyter\n",
    "Complete your Jupyter installation using:"
   ]
  },
  {
   "cell_type": "code",
   "execution_count": null,
   "metadata": {},
   "outputs": [],
   "source": [
    "brew install jupyter"
   ]
  },
  {
   "cell_type": "markdown",
   "metadata": {},
   "source": [
    "## Step 6: Verify Your Jupyter Installation\n",
    "You can verify if Jupyter has been installed correctly using the following command:"
   ]
  },
  {
   "cell_type": "code",
   "execution_count": null,
   "metadata": {},
   "outputs": [],
   "source": [
    "jupyter notebook"
   ]
  },
  {
   "cell_type": "markdown",
   "metadata": {},
   "source": [
    "You can create more than one Jupyter notebook and save them with code. Make sure to test some live code after installing Jupyter."
   ]
  },
  {
   "cell_type": "markdown",
   "metadata": {},
   "source": [
    "# Installing Anaconda on macOS\n",
    "\n",
    "Reference URL: https://docs.anaconda.com/anaconda/install/mac-os/\n",
    "\n",
    "You can install Anaconda using either the graphical installer (“wizard”) or the command line (“manual”) instructions.  If you are unsure, choose the graphical install.\n"
   ]
  },
  {
   "cell_type": "markdown",
   "metadata": {},
   "source": [
    "# Final Thoughts\n",
    "Many notebooks are available for programming today, but none are as widespread and versatile as the Jupyter Notebook.\n",
    "\n",
    "Whether you’re a PC or a Mac user, you’ll require a package manager for running Jupyter. Homebrew manager on Mac helps you to install Jupyter Notebook in six simple steps.\n",
    "\n",
    "Download xTools and Python on your Mac today, and you’ll learn to document professional-level notebooks in no time!"
   ]
  }
 ],
 "metadata": {
  "kernelspec": {
   "display_name": "Python 3 (ipykernel)",
   "language": "python",
   "name": "python3"
  },
  "language_info": {
   "codemirror_mode": {
    "name": "ipython",
    "version": 3
   },
   "file_extension": ".py",
   "mimetype": "text/x-python",
   "name": "python",
   "nbconvert_exporter": "python",
   "pygments_lexer": "ipython3",
   "version": "3.9.7"
  }
 },
 "nbformat": 4,
 "nbformat_minor": 4
}
