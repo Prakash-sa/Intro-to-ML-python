{
 "cells": [
  {
   "cell_type": "markdown",
   "id": "676ea2d8",
   "metadata": {},
   "source": [
    "## MIDTERM EXAM QUESTION (4 points)"
   ]
  },
  {
   "cell_type": "markdown",
   "id": "58b6d474",
   "metadata": {},
   "source": [
    "#### For this exercise, we are going to use the text data from publicly available comments on Youtube. The dataset provided for this coding test are comments for videos related to animals and/or pets. The dataset file is comma separated, with a header line defining the field names, listed here:\n",
    "\n",
    "- creator_name. Name of the YouTube channel creator.\n",
    "- userid. Integer identifier for the users commenting on the YouTube channels.\n",
    "- comment. Text of the comments made by the users."
   ]
  },
  {
   "cell_type": "markdown",
   "id": "9c2b24e2",
   "metadata": {},
   "source": [
    "#### Read the youtube_comments.csv file"
   ]
  },
  {
   "cell_type": "code",
   "execution_count": null,
   "id": "1c523a4e",
   "metadata": {},
   "outputs": [],
   "source": []
  },
  {
   "cell_type": "markdown",
   "id": "b3a47a9f",
   "metadata": {},
   "source": [
    "### Question 1 (1 point)\n",
    "\n",
    "#### Identify The top 5 commentators [Hint: Group by \"creator_name\" and \"userid\" and get the count. Show the Top 5 commentators]"
   ]
  },
  {
   "cell_type": "code",
   "execution_count": null,
   "id": "f120dc03",
   "metadata": {},
   "outputs": [],
   "source": []
  },
  {
   "cell_type": "markdown",
   "id": "7bf9124d",
   "metadata": {},
   "source": [
    "### Question 2 (1 point)\n",
    "\n",
    "#### Using K-means Clustering Algorithm, Cluster the comments from the topmost commentator\n",
    "\n",
    "##### Hint below: \n",
    "##### Step 1: Strip the Comments column from the topmost commentator\n",
    "##### Step 2: Get the TFIDF conversions and Build K-means clustering Algorithm. \n",
    "##### Step 3: Print Cluster Number and the top 20 terms under each cluster\n"
   ]
  },
  {
   "cell_type": "code",
   "execution_count": null,
   "id": "0d39a2ac",
   "metadata": {},
   "outputs": [],
   "source": []
  },
  {
   "cell_type": "markdown",
   "id": "f76ba337",
   "metadata": {},
   "source": [
    "### Question 3 (2 points)\n",
    "\n",
    "\n",
    "#### For the above problem, find the optimal cluster size using Elbow method. Plot the sum of squared distances against the number of clusters\n",
    "\n"
   ]
  },
  {
   "cell_type": "code",
   "execution_count": null,
   "id": "3cac7b5d",
   "metadata": {},
   "outputs": [],
   "source": []
  }
 ],
 "metadata": {
  "kernelspec": {
   "display_name": "Python 3 (ipykernel)",
   "language": "python",
   "name": "python3"
  },
  "language_info": {
   "codemirror_mode": {
    "name": "ipython",
    "version": 3
   },
   "file_extension": ".py",
   "mimetype": "text/x-python",
   "name": "python",
   "nbconvert_exporter": "python",
   "pygments_lexer": "ipython3",
   "version": "3.10.6"
  }
 },
 "nbformat": 4,
 "nbformat_minor": 5
}
