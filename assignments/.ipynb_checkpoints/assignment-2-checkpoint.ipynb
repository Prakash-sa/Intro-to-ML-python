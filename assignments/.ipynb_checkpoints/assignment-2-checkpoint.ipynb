{
 "cells": [
  {
   "cell_type": "code",
   "execution_count": 183,
   "metadata": {
    "_cell_guid": "b1076dfc-b9ad-4769-8c92-a6c4dae69d19",
    "_uuid": "8f2839f25d086af736a60e9eeb907d3b93b6e0e5",
    "execution": {
     "iopub.execute_input": "2022-09-13T07:53:47.544271Z",
     "iopub.status.busy": "2022-09-13T07:53:47.543912Z",
     "iopub.status.idle": "2022-09-13T07:53:47.562441Z",
     "shell.execute_reply": "2022-09-13T07:53:47.561617Z",
     "shell.execute_reply.started": "2022-09-13T07:53:47.544245Z"
    }
   },
   "outputs": [],
   "source": [
    "## This Python 3 environment comes with many helpful analytics libraries installed\n",
    "# It is defined by the kaggle/python Docker image: https://github.com/kaggle/docker-python\n",
    "# For example, here's several helpful packages to load\n",
    "\n",
    "import numpy as np # linear algebra\n",
    "import pandas as pd # data processing, CSV file I/O (e.g. pd.read_csv)\n",
    "import seaborn as sns # higher-level interface to Matplotlib that can be used to simplify many visualization tasks \n",
    "import matplotlib.pyplot as plt # ibrary for making visualizations. \n",
    "\n",
    "# Input data files are available in the read-only \"../input/\" directory\n",
    "# For example, running this (by clicking run or pressing Shift+Enter) will list all files under the input directory\n",
    "\n",
    "import os\n",
    "for dirname, _, filenames in os.walk('/kaggle/input'):\n",
    "    for filename in filenames:\n",
    "        print(os.path.join(dirname, filename))\n",
    "\n",
    "# You can write up to 20GB to the current directory (/kaggle/working/) that gets preserved as output when you create a version using \"Save & Run All\" \n",
    "# You can also write temporary files to /kaggle/temp/, but they won't be saved outside of the current session"
   ]
  },
  {
   "cell_type": "markdown",
   "metadata": {},
   "source": [
    "# Answer 1\n",
    "## Load CSV and Inspect Data Frame "
   ]
  },
  {
   "cell_type": "code",
   "execution_count": 184,
   "metadata": {
    "execution": {
     "iopub.execute_input": "2022-09-13T07:53:47.660671Z",
     "iopub.status.busy": "2022-09-13T07:53:47.659962Z",
     "iopub.status.idle": "2022-09-13T07:53:48.044835Z",
     "shell.execute_reply": "2022-09-13T07:53:48.043430Z",
     "shell.execute_reply.started": "2022-09-13T07:53:47.660632Z"
    }
   },
   "outputs": [],
   "source": [
    "# read the data file and store in the data frame\n",
    "df=pd.read_csv(\"../input/assignment-4/A2_question1_data.csv\")\n",
    "\n",
    "# print top 10 data from the data frame\n",
    "df.head(10)"
   ]
  },
  {
   "cell_type": "code",
   "execution_count": 185,
   "metadata": {
    "execution": {
     "iopub.execute_input": "2022-09-13T07:53:48.047511Z",
     "iopub.status.busy": "2022-09-13T07:53:48.046656Z",
     "iopub.status.idle": "2022-09-13T07:53:48.075161Z",
     "shell.execute_reply": "2022-09-13T07:53:48.074092Z",
     "shell.execute_reply.started": "2022-09-13T07:53:48.047447Z"
    }
   },
   "outputs": [],
   "source": [
    "# print bottom 10 data from the data frame\n",
    "df.tail(10)"
   ]
  },
  {
   "cell_type": "code",
   "execution_count": 186,
   "metadata": {
    "execution": {
     "iopub.execute_input": "2022-09-13T07:53:48.077907Z",
     "iopub.status.busy": "2022-09-13T07:53:48.077446Z",
     "iopub.status.idle": "2022-09-13T07:53:48.118091Z",
     "shell.execute_reply": "2022-09-13T07:53:48.116351Z",
     "shell.execute_reply.started": "2022-09-13T07:53:48.077880Z"
    }
   },
   "outputs": [],
   "source": [
    "# print a sample random row or column from the function\n",
    "df.sample(10)"
   ]
  },
  {
   "cell_type": "code",
   "execution_count": 187,
   "metadata": {
    "execution": {
     "iopub.execute_input": "2022-09-13T07:53:48.122409Z",
     "iopub.status.busy": "2022-09-13T07:53:48.121724Z",
     "iopub.status.idle": "2022-09-13T07:53:48.180486Z",
     "shell.execute_reply": "2022-09-13T07:53:48.179003Z",
     "shell.execute_reply.started": "2022-09-13T07:53:48.122373Z"
    }
   },
   "outputs": [],
   "source": [
    "# print the information of data frame\n",
    "df.info()"
   ]
  },
  {
   "cell_type": "code",
   "execution_count": 188,
   "metadata": {
    "execution": {
     "iopub.execute_input": "2022-09-13T07:53:48.183511Z",
     "iopub.status.busy": "2022-09-13T07:53:48.183177Z",
     "iopub.status.idle": "2022-09-13T07:53:48.309421Z",
     "shell.execute_reply": "2022-09-13T07:53:48.307619Z",
     "shell.execute_reply.started": "2022-09-13T07:53:48.183487Z"
    }
   },
   "outputs": [],
   "source": [
    "# print description of the data with mean, count, min value, max value.  \n",
    "df.describe()"
   ]
  },
  {
   "cell_type": "code",
   "execution_count": 189,
   "metadata": {
    "execution": {
     "iopub.execute_input": "2022-09-13T07:53:48.311259Z",
     "iopub.status.busy": "2022-09-13T07:53:48.310936Z",
     "iopub.status.idle": "2022-09-13T07:53:48.367433Z",
     "shell.execute_reply": "2022-09-13T07:53:48.365611Z",
     "shell.execute_reply.started": "2022-09-13T07:53:48.311231Z"
    }
   },
   "outputs": [],
   "source": [
    "# print the information of data frame\n",
    "df.info()"
   ]
  },
  {
   "cell_type": "markdown",
   "metadata": {},
   "source": [
    "### Find Missing values from the dataset"
   ]
  },
  {
   "cell_type": "code",
   "execution_count": 190,
   "metadata": {
    "execution": {
     "iopub.execute_input": "2022-09-13T07:53:48.369494Z",
     "iopub.status.busy": "2022-09-13T07:53:48.369252Z",
     "iopub.status.idle": "2022-09-13T07:53:48.422071Z",
     "shell.execute_reply": "2022-09-13T07:53:48.420035Z",
     "shell.execute_reply.started": "2022-09-13T07:53:48.369471Z"
    }
   },
   "outputs": [],
   "source": [
    "missing_values_count = df.isna().sum()\n",
    "# print(\"Number of null values in the dataset are: \", null)\n",
    "missing_values_count[0:10]"
   ]
  },
  {
   "cell_type": "markdown",
   "metadata": {},
   "source": [
    "### Fill the missing data with the default value"
   ]
  },
  {
   "cell_type": "code",
   "execution_count": 191,
   "metadata": {
    "execution": {
     "iopub.execute_input": "2022-09-13T07:53:48.425625Z",
     "iopub.status.busy": "2022-09-13T07:53:48.425268Z",
     "iopub.status.idle": "2022-09-13T07:53:48.510354Z",
     "shell.execute_reply": "2022-09-13T07:53:48.508700Z",
     "shell.execute_reply.started": "2022-09-13T07:53:48.425599Z"
    }
   },
   "outputs": [],
   "source": [
    "df=df.fillna(0)\n",
    "df"
   ]
  },
  {
   "cell_type": "markdown",
   "metadata": {},
   "source": [
    "# **Answer of question 1.2**"
   ]
  },
  {
   "cell_type": "code",
   "execution_count": 192,
   "metadata": {
    "execution": {
     "iopub.execute_input": "2022-09-13T07:53:48.513520Z",
     "iopub.status.busy": "2022-09-13T07:53:48.513182Z",
     "iopub.status.idle": "2022-09-13T07:53:48.548988Z",
     "shell.execute_reply": "2022-09-13T07:53:48.547286Z",
     "shell.execute_reply.started": "2022-09-13T07:53:48.513494Z"
    }
   },
   "outputs": [],
   "source": [
    "#import the random library\n",
    "import random\n",
    "\n",
    "# get the random number from 1 to the length of the dataframe\n",
    "rand=random.randint(1, len(df))\n",
    "\n",
    "# get the access point id for that random int\n",
    "rand_ap_id=df['ap_id'][rand]\n",
    "\n",
    "# filter the dataframe which has the rand_ap_id\n",
    "df_ap_id=df[df['ap_id']==rand_ap_id]"
   ]
  },
  {
   "cell_type": "code",
   "execution_count": 193,
   "metadata": {
    "execution": {
     "iopub.execute_input": "2022-09-13T07:53:48.553049Z",
     "iopub.status.busy": "2022-09-13T07:53:48.552722Z",
     "iopub.status.idle": "2022-09-13T07:53:48.593385Z",
     "shell.execute_reply": "2022-09-13T07:53:48.592556Z",
     "shell.execute_reply.started": "2022-09-13T07:53:48.553024Z"
    }
   },
   "outputs": [],
   "source": [
    "# drop the dublicates from the dataframe \n",
    "df_hourly=df_ap_id.drop_duplicates(subset=['When'])\n",
    "\n",
    "# convert the 'When' object column to datetime column \n",
    "df_hourly['When'] = pd.to_datetime(df_hourly['When'],utc=True)\n",
    "\n",
    "# resample the dataframe in 1 hour format\n",
    "df_hourly = df_hourly.set_index('When').resample('1H').count()\n",
    "\n",
    "df_hourly"
   ]
  },
  {
   "cell_type": "markdown",
   "metadata": {},
   "source": [
    "Plot the time series of the hourly number of events for a random access point."
   ]
  },
  {
   "cell_type": "code",
   "execution_count": 194,
   "metadata": {
    "execution": {
     "iopub.execute_input": "2022-09-13T07:53:48.594914Z",
     "iopub.status.busy": "2022-09-13T07:53:48.594658Z",
     "iopub.status.idle": "2022-09-13T07:53:49.749208Z",
     "shell.execute_reply": "2022-09-13T07:53:49.747571Z",
     "shell.execute_reply.started": "2022-09-13T07:53:48.594890Z"
    }
   },
   "outputs": [],
   "source": [
    "# declare the time array \n",
    "time_array=[]\n",
    "\n",
    "# insert the integer from 1 to the length of the dataframe in the time array\n",
    "for i in range(len(df_hourly['event_code'])):\n",
    "    time_array.append(i)\n",
    "\n",
    "# adjust the figure size\n",
    "plt.figure(figsize = (20, 10))\n",
    "\n",
    "# plot the graph\n",
    "plt.bar(x=time_array,height=df_hourly['event_code'], width=0.6)\n",
    "\n",
    "plt.show()"
   ]
  },
  {
   "cell_type": "markdown",
   "metadata": {},
   "source": [
    "# **Answer of the question 1.3**"
   ]
  },
  {
   "cell_type": "code",
   "execution_count": 195,
   "metadata": {
    "execution": {
     "iopub.execute_input": "2022-09-13T07:53:49.751184Z",
     "iopub.status.busy": "2022-09-13T07:53:49.750913Z",
     "iopub.status.idle": "2022-09-13T07:53:51.809710Z",
     "shell.execute_reply": "2022-09-13T07:53:51.808850Z",
     "shell.execute_reply.started": "2022-09-13T07:53:49.751158Z"
    }
   },
   "outputs": [],
   "source": [
    "# declare the timeframe array\n",
    "timeframe=[]\n",
    "\n",
    "# \n",
    "for i in range(0,len(df)-1):\n",
    "    # declare the string which contain the present event_code and next event_code\n",
    "    s=str(df['event_code'][i])+\"-\"+str(df['event_code'][i+1])\n",
    "    \n",
    "    # insert that string to the timeframe array\n",
    "    timeframe.append(s)\n",
    "    \n",
    "# append zero in the end to match the size of the dataframe\n",
    "timeframe.append(\"0\")\n",
    "\n",
    "# assign the timeframe column the values of timeframe \n",
    "df['timeframe']=timeframe\n",
    "\n",
    "# assign the timeframe array to the id column for the graph ploting \n",
    "df['id']=timeframe\n",
    "\n",
    "# print the dataframe\n",
    "df"
   ]
  },
  {
   "cell_type": "code",
   "execution_count": 196,
   "metadata": {
    "execution": {
     "iopub.execute_input": "2022-09-13T07:53:51.811205Z",
     "iopub.status.busy": "2022-09-13T07:53:51.810865Z",
     "iopub.status.idle": "2022-09-13T07:53:51.960427Z",
     "shell.execute_reply": "2022-09-13T07:53:51.958843Z",
     "shell.execute_reply.started": "2022-09-13T07:53:51.811172Z"
    }
   },
   "outputs": [],
   "source": [
    "# count the transition which is stored in the timeframe column \n",
    "df_timeframe=df.groupby('timeframe').count()\n",
    "\n",
    "# print the timeframe column\n",
    "df_timeframe"
   ]
  },
  {
   "cell_type": "markdown",
   "metadata": {},
   "source": [
    "**Please double click on the graph for the better visualization**\n",
    "\n",
    "Plot the graph of the count of event transistion"
   ]
  },
  {
   "cell_type": "code",
   "execution_count": 197,
   "metadata": {
    "execution": {
     "iopub.execute_input": "2022-09-13T07:53:51.962992Z",
     "iopub.status.busy": "2022-09-13T07:53:51.962251Z",
     "iopub.status.idle": "2022-09-13T07:54:06.324771Z",
     "shell.execute_reply": "2022-09-13T07:54:06.323397Z",
     "shell.execute_reply.started": "2022-09-13T07:53:51.962958Z"
    }
   },
   "outputs": [],
   "source": [
    "# adjust the figure size \n",
    "plt.figure(figsize = (900, 50))\n",
    "\n",
    "# plot the count of the transition\n",
    "plt.plot(df_timeframe['id'])\n",
    "\n",
    "# show the plot\n",
    "plt.show()"
   ]
  },
  {
   "cell_type": "markdown",
   "metadata": {},
   "source": [
    "# Answer 2"
   ]
  },
  {
   "cell_type": "code",
   "execution_count": 198,
   "metadata": {
    "execution": {
     "iopub.execute_input": "2022-09-13T07:54:06.327822Z",
     "iopub.status.busy": "2022-09-13T07:54:06.325970Z",
     "iopub.status.idle": "2022-09-13T07:54:06.335417Z",
     "shell.execute_reply": "2022-09-13T07:54:06.333904Z",
     "shell.execute_reply.started": "2022-09-13T07:54:06.327786Z"
    }
   },
   "outputs": [],
   "source": [
    "import numpy as np # linear algebra\n",
    "import pandas as pd # data processing, CSV file I/O (e.g. pd.read_csv)\n",
    "import seaborn as sns # higher-level interface to Matplotlib that can be used to simplify many visualization tasks \n",
    "import matplotlib.pyplot as plt # ibrary for making visualizations. \n",
    "\n",
    "import mpl_toolkits\n",
    "%matplotlib inline"
   ]
  },
  {
   "cell_type": "code",
   "execution_count": 199,
   "metadata": {
    "execution": {
     "iopub.execute_input": "2022-09-13T07:54:06.337138Z",
     "iopub.status.busy": "2022-09-13T07:54:06.336834Z",
     "iopub.status.idle": "2022-09-13T07:54:06.364151Z",
     "shell.execute_reply": "2022-09-13T07:54:06.363031Z",
     "shell.execute_reply.started": "2022-09-13T07:54:06.337113Z"
    }
   },
   "outputs": [],
   "source": [
    "# read the data file and store in the data frame\n",
    "data = pd.read_csv(\"../input/assignment-4/A2_question2_data.csv\")\n",
    "df"
   ]
  },
  {
   "cell_type": "markdown",
   "metadata": {},
   "source": [
    "# **Answer of the q 2.2**"
   ]
  },
  {
   "cell_type": "code",
   "execution_count": 215,
   "metadata": {
    "execution": {
     "iopub.execute_input": "2022-09-13T08:01:53.319661Z",
     "iopub.status.busy": "2022-09-13T08:01:53.319281Z",
     "iopub.status.idle": "2022-09-13T08:01:53.337896Z",
     "shell.execute_reply": "2022-09-13T08:01:53.336064Z",
     "shell.execute_reply.started": "2022-09-13T08:01:53.319634Z"
    }
   },
   "outputs": [],
   "source": [
    "# print top 10 data from the data frame\n",
    "data.head(10)"
   ]
  },
  {
   "cell_type": "code",
   "execution_count": 201,
   "metadata": {
    "execution": {
     "iopub.execute_input": "2022-09-13T07:54:06.384281Z",
     "iopub.status.busy": "2022-09-13T07:54:06.383939Z",
     "iopub.status.idle": "2022-09-13T07:54:06.402691Z",
     "shell.execute_reply": "2022-09-13T07:54:06.401603Z",
     "shell.execute_reply.started": "2022-09-13T07:54:06.384256Z"
    }
   },
   "outputs": [],
   "source": [
    "# print the information of data frame\n",
    "data.info()"
   ]
  },
  {
   "cell_type": "code",
   "execution_count": 202,
   "metadata": {
    "execution": {
     "iopub.execute_input": "2022-09-13T07:54:06.404767Z",
     "iopub.status.busy": "2022-09-13T07:54:06.404116Z",
     "iopub.status.idle": "2022-09-13T07:54:06.431645Z",
     "shell.execute_reply": "2022-09-13T07:54:06.430697Z",
     "shell.execute_reply.started": "2022-09-13T07:54:06.404731Z"
    }
   },
   "outputs": [],
   "source": [
    "# print description of the data with mean, count, min value, max value. \n",
    "data.describe()"
   ]
  },
  {
   "cell_type": "markdown",
   "metadata": {},
   "source": [
    "**There are no missing values in the dataset**"
   ]
  },
  {
   "cell_type": "code",
   "execution_count": 203,
   "metadata": {
    "execution": {
     "iopub.execute_input": "2022-09-13T07:54:06.433251Z",
     "iopub.status.busy": "2022-09-13T07:54:06.432907Z",
     "iopub.status.idle": "2022-09-13T07:54:06.445390Z",
     "shell.execute_reply": "2022-09-13T07:54:06.443200Z",
     "shell.execute_reply.started": "2022-09-13T07:54:06.433217Z"
    }
   },
   "outputs": [],
   "source": [
    "missing_values_count = data.isna().sum()\n",
    "# print(\"Number of null values in the dataset are: \", null)\n",
    "missing_values_count[0:10]"
   ]
  },
  {
   "cell_type": "markdown",
   "metadata": {},
   "source": [
    "Plot the graph for the count of Avg. Area Number of Bedrooms\n",
    "\n",
    "Please double click on the graph for better visualization\n",
    "\n",
    "From the graph we concluded that the Avg. number of Bedroom are not related to the count of the bedroom"
   ]
  },
  {
   "cell_type": "code",
   "execution_count": 204,
   "metadata": {
    "execution": {
     "iopub.execute_input": "2022-09-13T07:54:06.451164Z",
     "iopub.status.busy": "2022-09-13T07:54:06.450839Z",
     "iopub.status.idle": "2022-09-13T07:54:10.193153Z",
     "shell.execute_reply": "2022-09-13T07:54:10.192216Z",
     "shell.execute_reply.started": "2022-09-13T07:54:06.451139Z"
    }
   },
   "outputs": [],
   "source": [
    "# adjust the figure size \n",
    "plt.figure(figsize = (100, 50))\n",
    "\n",
    "# plot the Avg. Area Number of Bedrooms count bar graph \n",
    "data['Avg. Area Number of Bedrooms'].value_counts().plot(kind='bar')\n",
    "\n",
    "# assign the title to the graph\n",
    "plt.title('number of Bedroom')\n",
    "\n",
    "# give the x-axis label\n",
    "plt.xlabel('Bedrooms')\n",
    "\n",
    "# give the y-axis label\n",
    "plt.ylabel('Count')"
   ]
  },
  {
   "cell_type": "markdown",
   "metadata": {},
   "source": [
    "Plot the graph bw Avg. Area Income and Area Population\n",
    "\n",
    "According to the graph most of the area population have the same Avg. Area Income. "
   ]
  },
  {
   "cell_type": "code",
   "execution_count": 205,
   "metadata": {
    "execution": {
     "iopub.execute_input": "2022-09-13T07:54:10.196353Z",
     "iopub.status.busy": "2022-09-13T07:54:10.194399Z",
     "iopub.status.idle": "2022-09-13T07:54:10.404266Z",
     "shell.execute_reply": "2022-09-13T07:54:10.402700Z",
     "shell.execute_reply.started": "2022-09-13T07:54:10.196242Z"
    }
   },
   "outputs": [],
   "source": [
    "# plot the Avg. Area Number of Bedrooms count bar graph \n",
    "plt.scatter(data['Avg. Area Income'],data['Area Population'])\n",
    "\n",
    "# plot the title of the graph\n",
    "plt.title(\"Avg. Area Income vs Area Population\")\n",
    "\n",
    "# assign the x-label\n",
    "plt.xlabel(\"Avg. Area Income\")\n",
    "\n",
    "# assign the y-label\n",
    "plt.ylabel(\"Area Population\")"
   ]
  },
  {
   "cell_type": "markdown",
   "metadata": {},
   "source": [
    "Plot the graph bw Avg. Area Number of Bedrooms and Avg. Area Income\n",
    "\n",
    "Accroding to the graph the people who have higher Avg. Area Income are buying approx 3 Avg. Area Number of Bedrooms"
   ]
  },
  {
   "cell_type": "code",
   "execution_count": 206,
   "metadata": {
    "execution": {
     "iopub.execute_input": "2022-09-13T07:54:10.406590Z",
     "iopub.status.busy": "2022-09-13T07:54:10.406254Z",
     "iopub.status.idle": "2022-09-13T07:54:10.569292Z",
     "shell.execute_reply": "2022-09-13T07:54:10.567704Z",
     "shell.execute_reply.started": "2022-09-13T07:54:10.406561Z"
    }
   },
   "outputs": [],
   "source": [
    "# plot the Avg. Area Number of Bedrooms count bar graph \n",
    "plt.scatter(data['Avg. Area Number of Bedrooms'],data['Avg. Area Income'])\n",
    "\n",
    "# assign the title of the graph \n",
    "plt.title(\"Avg. Area Number of Bedrooms vs Avg. Area Income\")\n",
    "\n",
    "# assign the x-label\n",
    "plt.xlabel(\"Avg. Area Number of Bedrooms\")\n",
    "\n",
    "# assign the y label\n",
    "plt.ylabel(\"Avg. Area Income\")\n",
    "\n",
    "# show the graph\n",
    "plt.show()"
   ]
  },
  {
   "cell_type": "markdown",
   "metadata": {},
   "source": [
    "Plot the graph bw Price and Avg. Area Income\n",
    "\n",
    "Higher the Avg. Area Income, Higher the housing prices."
   ]
  },
  {
   "cell_type": "code",
   "execution_count": 207,
   "metadata": {
    "execution": {
     "iopub.execute_input": "2022-09-13T07:54:10.576396Z",
     "iopub.status.busy": "2022-09-13T07:54:10.572601Z",
     "iopub.status.idle": "2022-09-13T07:54:10.737425Z",
     "shell.execute_reply": "2022-09-13T07:54:10.736799Z",
     "shell.execute_reply.started": "2022-09-13T07:54:10.576344Z"
    }
   },
   "outputs": [],
   "source": [
    "# plot the Avg. Area Number of Bedrooms count bar graph \n",
    "plt.scatter(data['Price'],data['Avg. Area Income'])\n",
    "\n",
    "# assign the title of the graph \n",
    "plt.title(\"Price and Avg. Area Income\")\n",
    "\n",
    "# assign the x-label\n",
    "plt.xlabel(\"Price\")\n",
    "\n",
    "# assign the y label\n",
    "plt.ylabel(\"Avg. Area Income\")\n",
    "\n",
    "# show the graph\n",
    "plt.show()"
   ]
  },
  {
   "cell_type": "markdown",
   "metadata": {},
   "source": [
    "# **Answer for the q 2.3, 2.4. 2.5**"
   ]
  },
  {
   "cell_type": "code",
   "execution_count": 208,
   "metadata": {
    "execution": {
     "iopub.execute_input": "2022-09-13T07:54:10.738616Z",
     "iopub.status.busy": "2022-09-13T07:54:10.738336Z",
     "iopub.status.idle": "2022-09-13T07:54:10.760559Z",
     "shell.execute_reply": "2022-09-13T07:54:10.758917Z",
     "shell.execute_reply.started": "2022-09-13T07:54:10.738592Z"
    }
   },
   "outputs": [],
   "source": [
    "from sklearn.linear_model import LinearRegression\n",
    "from sklearn.model_selection import train_test_split\n",
    "\n",
    "# Converting Objects to Numerical dtype\n",
    "# drop the address column because of no use in the prediction\n",
    "data.drop('Address', axis= 1, inplace= True)\n",
    "labels = data['Price']\n",
    "train1 = data.drop(['Price'],axis=1)\n",
    "\n",
    "# splitting the Dataset \n",
    "x_train , x_test , y_train , y_test = train_test_split(train1 , labels , test_size = 0.30,random_state =101)\n",
    "\n",
    "# Instantiating LinearRegression() Model\n",
    "reg = LinearRegression()\n",
    "\n",
    "# Training/Fitting the Model\n",
    "reg.fit(x_train,y_train)"
   ]
  },
  {
   "cell_type": "markdown",
   "metadata": {},
   "source": [
    "Score of the regression model"
   ]
  },
  {
   "cell_type": "code",
   "execution_count": 209,
   "metadata": {
    "execution": {
     "iopub.execute_input": "2022-09-13T07:54:10.763094Z",
     "iopub.status.busy": "2022-09-13T07:54:10.762689Z",
     "iopub.status.idle": "2022-09-13T07:54:10.776967Z",
     "shell.execute_reply": "2022-09-13T07:54:10.774846Z",
     "shell.execute_reply.started": "2022-09-13T07:54:10.763059Z"
    }
   },
   "outputs": [],
   "source": [
    "reg.score(x_test,y_test)"
   ]
  },
  {
   "cell_type": "code",
   "execution_count": 210,
   "metadata": {
    "execution": {
     "iopub.execute_input": "2022-09-13T07:54:10.778885Z",
     "iopub.status.busy": "2022-09-13T07:54:10.778566Z",
     "iopub.status.idle": "2022-09-13T07:54:10.790172Z",
     "shell.execute_reply": "2022-09-13T07:54:10.788255Z",
     "shell.execute_reply.started": "2022-09-13T07:54:10.778860Z"
    }
   },
   "outputs": [],
   "source": [
    "from sklearn.metrics import mean_absolute_error, mean_squared_error\n",
    "\n",
    "# Making Predictions\n",
    "pred = reg.predict(x_test)\n",
    "\n",
    "# Evaluating Model's Performance\n",
    "print('Mean Absolute Error:', mean_absolute_error(y_test, pred))\n",
    "print('Mean Squared Error:', mean_squared_error(y_test, pred))\n",
    "print('Mean Root Squared Error:', np.sqrt(mean_squared_error(y_test, pred)))"
   ]
  },
  {
   "cell_type": "markdown",
   "metadata": {},
   "source": [
    "Ploting the graph of train and test dataset which is very close according to it."
   ]
  },
  {
   "cell_type": "code",
   "execution_count": 211,
   "metadata": {
    "execution": {
     "iopub.execute_input": "2022-09-13T07:54:10.792502Z",
     "iopub.status.busy": "2022-09-13T07:54:10.792088Z",
     "iopub.status.idle": "2022-09-13T07:54:10.925472Z",
     "shell.execute_reply": "2022-09-13T07:54:10.924506Z",
     "shell.execute_reply.started": "2022-09-13T07:54:10.792467Z"
    }
   },
   "outputs": [],
   "source": [
    "plt.scatter(y_test,pred, color='red')\n",
    "plt.plot([np.min(pred[0]),np.min(pred[1])],[np.max(pred[0]),np.max(pred[1])])\n",
    "plt.show()"
   ]
  },
  {
   "cell_type": "markdown",
   "metadata": {},
   "source": [
    "**Trying the Linear Regression using Gradient Descent**"
   ]
  },
  {
   "cell_type": "code",
   "execution_count": 212,
   "metadata": {
    "execution": {
     "iopub.execute_input": "2022-09-13T07:54:10.927331Z",
     "iopub.status.busy": "2022-09-13T07:54:10.926874Z",
     "iopub.status.idle": "2022-09-13T07:54:10.932445Z",
     "shell.execute_reply": "2022-09-13T07:54:10.931166Z",
     "shell.execute_reply.started": "2022-09-13T07:54:10.927298Z"
    }
   },
   "outputs": [],
   "source": [
    "from sklearn import ensemble\n",
    "clf = ensemble.GradientBoostingRegressor(n_estimators = 400, max_depth = 5, min_samples_split = 2,learning_rate = 0.1, loss = 'ls')"
   ]
  },
  {
   "cell_type": "code",
   "execution_count": 213,
   "metadata": {
    "execution": {
     "iopub.execute_input": "2022-09-13T07:54:10.934481Z",
     "iopub.status.busy": "2022-09-13T07:54:10.934136Z",
     "iopub.status.idle": "2022-09-13T07:54:15.437861Z",
     "shell.execute_reply": "2022-09-13T07:54:15.435372Z",
     "shell.execute_reply.started": "2022-09-13T07:54:10.934442Z"
    }
   },
   "outputs": [],
   "source": [
    "clf.fit(x_train, y_train)"
   ]
  },
  {
   "cell_type": "code",
   "execution_count": 214,
   "metadata": {
    "execution": {
     "iopub.execute_input": "2022-09-13T07:54:15.439583Z",
     "iopub.status.busy": "2022-09-13T07:54:15.439247Z",
     "iopub.status.idle": "2022-09-13T07:54:15.459823Z",
     "shell.execute_reply": "2022-09-13T07:54:15.458581Z",
     "shell.execute_reply.started": "2022-09-13T07:54:15.439550Z"
    }
   },
   "outputs": [],
   "source": [
    "clf.score(x_test,y_test)"
   ]
  }
 ],
 "metadata": {
  "kernelspec": {
   "display_name": "Python 3 (ipykernel)",
   "language": "python",
   "name": "python3"
  },
  "language_info": {
   "codemirror_mode": {
    "name": "ipython",
    "version": 3
   },
   "file_extension": ".py",
   "mimetype": "text/x-python",
   "name": "python",
   "nbconvert_exporter": "python",
   "pygments_lexer": "ipython3",
   "version": "3.10.6"
  }
 },
 "nbformat": 4,
 "nbformat_minor": 4
}
