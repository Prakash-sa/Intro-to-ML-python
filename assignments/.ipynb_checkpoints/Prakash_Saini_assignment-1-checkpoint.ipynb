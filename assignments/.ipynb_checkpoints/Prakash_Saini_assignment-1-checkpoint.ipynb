{
 "cells": [
  {
   "cell_type": "code",
   "execution_count": 2,
   "metadata": {
    "_cell_guid": "b1076dfc-b9ad-4769-8c92-a6c4dae69d19",
    "_uuid": "8f2839f25d086af736a60e9eeb907d3b93b6e0e5",
    "execution": {
     "iopub.execute_input": "2022-09-06T16:19:28.938075Z",
     "iopub.status.busy": "2022-09-06T16:19:28.937684Z",
     "iopub.status.idle": "2022-09-06T16:19:29.597000Z",
     "shell.execute_reply": "2022-09-06T16:19:29.595659Z",
     "shell.execute_reply.started": "2022-09-06T16:19:28.938042Z"
    }
   },
   "outputs": [],
   "source": [
    "# This Python 3 environment comes with many helpful analytics libraries installed\n",
    "# It is defined by the kaggle/python Docker image: https://github.com/kaggle/docker-python\n",
    "# For example, here's several helpful packages to load\n",
    "\n",
    "import numpy as np # linear algebra\n",
    "import pandas as pd # data processing, CSV file I/O (e.g. pd.read_csv)\n",
    "from matplotlib import pyplot as plt # ibrary for making visualizations. \n",
    "import seaborn as sns # higher-level interface to Matplotlib that can be used to simplify many visualization tasks \n",
    "import missingno as msno # provides a series of visualisations to understand the presence and distribution of missing data within a pandas dataframe.\n",
    "\n",
    "\n",
    "# Input data files are available in the read-only \"../input/\" directory\n",
    "# For example, running this (by clicking run or pressing Shift+Enter) will list all files under the input directory\n",
    "\n",
    "import os\n",
    "for dirname, _, filenames in os.walk('/kaggle/input'):\n",
    "    for filename in filenames:\n",
    "        print(os.path.join(dirname, filename))\n",
    "\n",
    "# You can write up to 20GB to the current directory (/kaggle/working/) that gets preserved as output when you create a version using \"Save & Run All\" \n",
    "# You can also write temporary files to /kaggle/temp/, but they won't be saved outside of the current session"
   ]
  },
  {
   "cell_type": "markdown",
   "metadata": {},
   "source": [
    "# **Load CSV and Inspect Data Frame**"
   ]
  },
  {
   "cell_type": "code",
   "execution_count": 3,
   "metadata": {
    "execution": {
     "iopub.execute_input": "2022-09-06T16:19:29.600254Z",
     "iopub.status.busy": "2022-09-06T16:19:29.599471Z",
     "iopub.status.idle": "2022-09-06T16:19:29.686650Z",
     "shell.execute_reply": "2022-09-06T16:19:29.685490Z",
     "shell.execute_reply.started": "2022-09-06T16:19:29.600208Z"
    }
   },
   "outputs": [],
   "source": [
    "# read the data file and store in the data frame\n",
    "df=pd.read_csv(\"/kaggle/input/assignment1-data/assignment1f_data.csv\")\n",
    "\n",
    "# print top 10 data from the data frame\n",
    "df.head(10)"
   ]
  },
  {
   "cell_type": "code",
   "execution_count": 4,
   "metadata": {
    "execution": {
     "iopub.execute_input": "2022-09-06T16:19:29.688332Z",
     "iopub.status.busy": "2022-09-06T16:19:29.687985Z",
     "iopub.status.idle": "2022-09-06T16:19:29.725700Z",
     "shell.execute_reply": "2022-09-06T16:19:29.724833Z",
     "shell.execute_reply.started": "2022-09-06T16:19:29.688301Z"
    }
   },
   "outputs": [],
   "source": [
    "# print bottom 10 data from the data frame\n",
    "df.tail(10)"
   ]
  },
  {
   "cell_type": "code",
   "execution_count": 5,
   "metadata": {
    "execution": {
     "iopub.execute_input": "2022-09-06T16:19:29.728134Z",
     "iopub.status.busy": "2022-09-06T16:19:29.727787Z",
     "iopub.status.idle": "2022-09-06T16:19:29.765319Z",
     "shell.execute_reply": "2022-09-06T16:19:29.764072Z",
     "shell.execute_reply.started": "2022-09-06T16:19:29.728102Z"
    }
   },
   "outputs": [],
   "source": [
    "# print a sample random row or column from the function\n",
    "df.sample(10)"
   ]
  },
  {
   "cell_type": "code",
   "execution_count": 6,
   "metadata": {
    "execution": {
     "iopub.execute_input": "2022-09-06T16:19:29.766993Z",
     "iopub.status.busy": "2022-09-06T16:19:29.766478Z",
     "iopub.status.idle": "2022-09-06T16:19:29.792678Z",
     "shell.execute_reply": "2022-09-06T16:19:29.791771Z",
     "shell.execute_reply.started": "2022-09-06T16:19:29.766961Z"
    }
   },
   "outputs": [],
   "source": [
    "# print the information of data frame\n",
    "df.info()"
   ]
  },
  {
   "cell_type": "code",
   "execution_count": 7,
   "metadata": {
    "execution": {
     "iopub.execute_input": "2022-09-06T16:19:29.794910Z",
     "iopub.status.busy": "2022-09-06T16:19:29.794109Z",
     "iopub.status.idle": "2022-09-06T16:19:29.884372Z",
     "shell.execute_reply": "2022-09-06T16:19:29.883504Z",
     "shell.execute_reply.started": "2022-09-06T16:19:29.794863Z"
    }
   },
   "outputs": [],
   "source": [
    "# print description of the data with mean, count, min value, max value.  \n",
    "df.describe()"
   ]
  },
  {
   "cell_type": "markdown",
   "metadata": {},
   "source": [
    "# **Find Missing values from the dataset**"
   ]
  },
  {
   "cell_type": "markdown",
   "metadata": {},
   "source": [
    "1. Number of null values in the dataset"
   ]
  },
  {
   "cell_type": "code",
   "execution_count": 8,
   "metadata": {
    "execution": {
     "iopub.execute_input": "2022-09-06T16:19:29.886270Z",
     "iopub.status.busy": "2022-09-06T16:19:29.885414Z",
     "iopub.status.idle": "2022-09-06T16:19:29.894113Z",
     "shell.execute_reply": "2022-09-06T16:19:29.892836Z",
     "shell.execute_reply.started": "2022-09-06T16:19:29.886236Z"
    }
   },
   "outputs": [],
   "source": [
    "null = df.isna().sum()\n",
    "print(\"Number of null values in the dataset are: \", null)"
   ]
  },
  {
   "cell_type": "markdown",
   "metadata": {},
   "source": [
    "2. Drop data without NaN"
   ]
  },
  {
   "cell_type": "code",
   "execution_count": 9,
   "metadata": {
    "execution": {
     "iopub.execute_input": "2022-09-06T16:19:29.898247Z",
     "iopub.status.busy": "2022-09-06T16:19:29.897890Z",
     "iopub.status.idle": "2022-09-06T16:19:29.942250Z",
     "shell.execute_reply": "2022-09-06T16:19:29.941125Z",
     "shell.execute_reply.started": "2022-09-06T16:19:29.898216Z"
    }
   },
   "outputs": [],
   "source": [
    "df.dropna()"
   ]
  },
  {
   "cell_type": "markdown",
   "metadata": {},
   "source": [
    "# **Fill the missing data with the default value, forward fill and backward fill**"
   ]
  },
  {
   "cell_type": "markdown",
   "metadata": {},
   "source": [
    "1. Filling null values with 0"
   ]
  },
  {
   "cell_type": "code",
   "execution_count": 10,
   "metadata": {
    "execution": {
     "iopub.execute_input": "2022-09-06T16:19:29.944358Z",
     "iopub.status.busy": "2022-09-06T16:19:29.944028Z",
     "iopub.status.idle": "2022-09-06T16:19:29.984291Z",
     "shell.execute_reply": "2022-09-06T16:19:29.983147Z",
     "shell.execute_reply.started": "2022-09-06T16:19:29.944329Z"
    }
   },
   "outputs": [],
   "source": [
    "df=df.fillna(0)\n",
    "df"
   ]
  },
  {
   "cell_type": "markdown",
   "metadata": {},
   "source": [
    "2. Filling null values with Forward fill"
   ]
  },
  {
   "cell_type": "code",
   "execution_count": 11,
   "metadata": {
    "execution": {
     "iopub.execute_input": "2022-09-06T16:19:30.033704Z",
     "iopub.status.busy": "2022-09-06T16:19:30.033290Z",
     "iopub.status.idle": "2022-09-06T16:19:30.080573Z",
     "shell.execute_reply": "2022-09-06T16:19:30.079380Z",
     "shell.execute_reply.started": "2022-09-06T16:19:30.033668Z"
    }
   },
   "outputs": [],
   "source": [
    "df.fillna(method = \"ffill\")"
   ]
  },
  {
   "cell_type": "markdown",
   "metadata": {},
   "source": [
    "3. Filling null value with Backward Fill"
   ]
  },
  {
   "cell_type": "code",
   "execution_count": 12,
   "metadata": {
    "execution": {
     "iopub.execute_input": "2022-09-06T16:19:30.125133Z",
     "iopub.status.busy": "2022-09-06T16:19:30.124345Z",
     "iopub.status.idle": "2022-09-06T16:19:30.166792Z",
     "shell.execute_reply": "2022-09-06T16:19:30.165660Z",
     "shell.execute_reply.started": "2022-09-06T16:19:30.125094Z"
    }
   },
   "outputs": [],
   "source": [
    "df.fillna(method = \"bfill\")"
   ]
  },
  {
   "cell_type": "markdown",
   "metadata": {},
   "source": [
    "If time persist, I will try to compare the data by filling the missing data with all the above method and with mean fill also."
   ]
  },
  {
   "cell_type": "markdown",
   "metadata": {},
   "source": [
    "# **Data Analysis**"
   ]
  },
  {
   "cell_type": "code",
   "execution_count": 13,
   "metadata": {
    "execution": {
     "iopub.execute_input": "2022-09-06T16:19:30.194526Z",
     "iopub.status.busy": "2022-09-06T16:19:30.193096Z",
     "iopub.status.idle": "2022-09-06T16:19:30.219781Z",
     "shell.execute_reply": "2022-09-06T16:19:30.218873Z",
     "shell.execute_reply.started": "2022-09-06T16:19:30.194471Z"
    }
   },
   "outputs": [],
   "source": [
    "print(df)"
   ]
  },
  {
   "cell_type": "markdown",
   "metadata": {},
   "source": [
    "**Graph bw Citizenship Status and Martial Status.**\n",
    "\n",
    "Citizenship status of 1 and 2 have more Martial Status then other."
   ]
  },
  {
   "cell_type": "code",
   "execution_count": 14,
   "metadata": {
    "execution": {
     "iopub.execute_input": "2022-09-06T16:19:30.249769Z",
     "iopub.status.busy": "2022-09-06T16:19:30.249394Z",
     "iopub.status.idle": "2022-09-06T16:19:30.535708Z",
     "shell.execute_reply": "2022-09-06T16:19:30.534547Z",
     "shell.execute_reply.started": "2022-09-06T16:19:30.249737Z"
    }
   },
   "outputs": [],
   "source": [
    "plt.figure(figsize=(8,6))\n",
    "\n",
    "# Add a main title\n",
    "plt.title(\"Citizenship Status vs Martial Status\\n\",fontsize=20, fontstyle='italic')\n",
    "\n",
    "# X- and Y-label with fontsize\n",
    "plt.xlabel(\"Citizenship Status\",fontsize=16)\n",
    "plt.ylabel(\"Martial Status\",fontsize=16)\n",
    "\n",
    "# # Turn on grid\n",
    "plt.grid (True)\n",
    "\n",
    "# Set Y-axis limit\n",
    "plt.ylim(0,10)\n",
    "\n",
    "# X- and Y-axis ticks customization with fontsize and placement\n",
    "plt.xticks([i for i in range(12)],fontsize=15)\n",
    "plt.yticks(fontsize=15)\n",
    "\n",
    "# Main plotting function with choice of color, marker size, and marker edge color\n",
    "plt.scatter(x=df['DMDCITZN'],y=df['DMDMARTL'],c='orange',s=150,edgecolors='k')\n",
    "\n",
    "# Final show method\n",
    "plt.show()"
   ]
  },
  {
   "cell_type": "markdown",
   "metadata": {},
   "source": [
    "**Graph of Gender Value vs Age in years at screening**\n",
    "\n",
    "Age in years at screening is same for both men and women."
   ]
  },
  {
   "cell_type": "code",
   "execution_count": 15,
   "metadata": {
    "execution": {
     "iopub.execute_input": "2022-09-06T16:19:30.538598Z",
     "iopub.status.busy": "2022-09-06T16:19:30.538164Z",
     "iopub.status.idle": "2022-09-06T16:19:30.811164Z",
     "shell.execute_reply": "2022-09-06T16:19:30.809949Z",
     "shell.execute_reply.started": "2022-09-06T16:19:30.538555Z"
    }
   },
   "outputs": [],
   "source": [
    "plt.figure(figsize=(8,15))\n",
    "\n",
    "# Add a main title\n",
    "plt.title(\"Gender Value vs Age in years at screening \\n\",fontsize=20, fontstyle='italic')\n",
    "\n",
    "# X- and Y-label with fontsize\n",
    "plt.xlabel(\"Gender Value\",fontsize=16)\n",
    "plt.ylabel(\"Age in years at screening\",fontsize=16)\n",
    "\n",
    "# # Turn on grid\n",
    "plt.grid (True)\n",
    "\n",
    "# Set Y-axis limit\n",
    "plt.ylim(0,100)\n",
    "\n",
    "# X- and Y-axis ticks customization with fontsize and placement\n",
    "plt.xticks([i for i in range(12)],fontsize=15)\n",
    "plt.yticks(fontsize=15)\n",
    "\n",
    "# Main plotting function with choice of color, marker size, and marker edge color\n",
    "plt.scatter(x=df['RIAGENDR'],y=df['RIDAGEYR'],c='orange',s=150,edgecolors='k')\n",
    "\n",
    "# # Adding a legend\n",
    "plt.legend(['Age in years'],loc=2,fontsize=14)\n",
    "\n",
    "# Final show method\n",
    "plt.show()"
   ]
  },
  {
   "cell_type": "markdown",
   "metadata": {},
   "source": [
    "**Graph of Gender Value vs BMXHT – Height(cm)**\n",
    "\n",
    "Graph shows that Gender value in the vicinity of 1 have greater height then 2. Generally the height of men are greater then women, so I conculded that the gender value near 1 are men and gender value approx 2 are women."
   ]
  },
  {
   "cell_type": "code",
   "execution_count": 16,
   "metadata": {
    "execution": {
     "iopub.execute_input": "2022-09-06T16:19:30.813352Z",
     "iopub.status.busy": "2022-09-06T16:19:30.812869Z",
     "iopub.status.idle": "2022-09-06T16:19:31.082434Z",
     "shell.execute_reply": "2022-09-06T16:19:31.081260Z",
     "shell.execute_reply.started": "2022-09-06T16:19:30.813307Z"
    }
   },
   "outputs": [],
   "source": [
    "plt.figure(figsize=(8,15))\n",
    "\n",
    "# Add a main title\n",
    "plt.title(\"Gender Value vs Height \\n\",fontsize=20, fontstyle='italic')\n",
    "\n",
    "# X- and Y-label with fontsize\n",
    "plt.xlabel(\"Gender Value\",fontsize=16)\n",
    "plt.ylabel(\"BMXHT – Height(cm)\",fontsize=16)\n",
    "\n",
    "# Turn on grid\n",
    "plt.grid (True)\n",
    "\n",
    "# Set Y-axis limit\n",
    "plt.ylim(100,250)\n",
    "\n",
    "# X- and Y-axis ticks customization with fontsize and placement\n",
    "plt.xticks([i for i in range(12)],fontsize=15)\n",
    "plt.yticks(fontsize=15)\n",
    "\n",
    "# Main plotting function with choice of color, marker size, and marker edge color\n",
    "plt.scatter(x=df['RIAGENDR'],y=df['BMXHT'],c='orange',s=150,edgecolors='k')\n",
    "\n",
    "# Adding a legend\n",
    "plt.legend(['Height in cms'],loc=2,fontsize=14)\n",
    "\n",
    "# Final show method\n",
    "plt.show()"
   ]
  },
  {
   "cell_type": "markdown",
   "metadata": {},
   "source": [
    "**Dist plot of Citizenship Status**\n",
    "\n",
    "Count of people decreases with increase of Citizenship status"
   ]
  },
  {
   "cell_type": "code",
   "execution_count": 17,
   "metadata": {
    "execution": {
     "iopub.execute_input": "2022-09-06T16:19:31.085149Z",
     "iopub.status.busy": "2022-09-06T16:19:31.084792Z",
     "iopub.status.idle": "2022-09-06T16:19:31.431287Z",
     "shell.execute_reply": "2022-09-06T16:19:31.429947Z",
     "shell.execute_reply.started": "2022-09-06T16:19:31.085117Z"
    }
   },
   "outputs": [],
   "source": [
    "sns.displot(df[\"DMDCITZN\"],kde=True)"
   ]
  },
  {
   "cell_type": "markdown",
   "metadata": {},
   "source": [
    "**Graph of Race/Hispanic origin vs Citizenship Status.**\n",
    "\n",
    "Less the Race/Hispanic origin value greater the Citizenship status value."
   ]
  },
  {
   "cell_type": "code",
   "execution_count": 18,
   "metadata": {
    "execution": {
     "iopub.execute_input": "2022-09-06T16:19:31.433108Z",
     "iopub.status.busy": "2022-09-06T16:19:31.432712Z",
     "iopub.status.idle": "2022-09-06T16:19:31.694440Z",
     "shell.execute_reply": "2022-09-06T16:19:31.693396Z",
     "shell.execute_reply.started": "2022-09-06T16:19:31.433072Z"
    }
   },
   "outputs": [],
   "source": [
    "plt.figure(figsize=(8,15))\n",
    "\n",
    "# main title\n",
    "plt.title(\"Race/Hispanic origin vs Citizenship Status \\n\",fontsize=20, fontstyle='italic')\n",
    "\n",
    "# X- and Y-label with fontsize\n",
    "plt.xlabel(\"Race/Hispanic origin\",fontsize=16)\n",
    "plt.ylabel(\"Citizenship Status\",fontsize=16)\n",
    "\n",
    "# Turn on grid\n",
    "plt.grid(True)\n",
    "\n",
    "# Set Y-axis limit\n",
    "plt.ylim(0,20)\n",
    "\n",
    "# X- and Y-axis ticks customization with fontsize and placement\n",
    "plt.xticks([i for i in range(12)],fontsize=15)\n",
    "plt.yticks(fontsize=15)\n",
    "\n",
    "# Main plotting function with choice of color, marker size, and marker edge color\n",
    "plt.scatter(x=df['RIDRETH1'],y=df['DMDCITZN'],c='orange',s=150,edgecolors='k')\n",
    "\n",
    "# Final show method\n",
    "plt.show()"
   ]
  },
  {
   "cell_type": "markdown",
   "metadata": {},
   "source": [
    "In extra time, I will like to analysis the relationship bw the data BPXSY1, BPXDI1, BPXSY2, BPXDI2, HIQ210."
   ]
  },
  {
   "cell_type": "markdown",
   "metadata": {},
   "source": [
    "# **Answer 2**"
   ]
  },
  {
   "cell_type": "markdown",
   "metadata": {},
   "source": [
    "considering person smoke if SMQ020 1 and don't if SMQ020 is 2, 7, 9."
   ]
  },
  {
   "cell_type": "code",
   "execution_count": 19,
   "metadata": {
    "execution": {
     "iopub.execute_input": "2022-09-06T16:19:31.696412Z",
     "iopub.status.busy": "2022-09-06T16:19:31.696099Z",
     "iopub.status.idle": "2022-09-06T16:19:31.713370Z",
     "shell.execute_reply": "2022-09-06T16:19:31.711906Z",
     "shell.execute_reply.started": "2022-09-06T16:19:31.696384Z"
    }
   },
   "outputs": [],
   "source": [
    "#total number of people who smoke\n",
    "people_smoke=df[df['SMQ020']==1]\n",
    "\n",
    "# assume women if RIAGENDR – Gender value is >= 1.518919. 1.518919 is the mean of RIAGENDR\n",
    "women=df[df['RIAGENDR']==2]\n",
    "\n",
    "# store the women who smoke\n",
    "women_smoke=df[((df['SMQ020']==1)&(df['RIAGENDR']==2))]\n",
    "\n",
    "# store women in variable women who don't smoke\n",
    "women_dontsmoke=df[(((df['SMQ020']==2) | (df['SMQ020']==7) | (df['SMQ020']==9))&(df['RIAGENDR']==2))]\n",
    "\n",
    "# assume women if RIAGENDR – Gender value is < 1.518919. 1.518919 is the mean of RIAGENDR\n",
    "men=df[(df['RIAGENDR']==1)]\n",
    "\n",
    "# store the men who smoke\n",
    "men_smoke=df[((df['SMQ020']==1)&(df['RIAGENDR']==1))]\n",
    "\n",
    "# store the women who don't smoke\n",
    "men_dontsmoke=df[(((df['SMQ020']==2) | (df['SMQ020']==7) | (df['SMQ020']==9))&(df['RIAGENDR']==1))]"
   ]
  },
  {
   "cell_type": "code",
   "execution_count": 20,
   "metadata": {
    "execution": {
     "iopub.execute_input": "2022-09-06T16:19:31.715805Z",
     "iopub.status.busy": "2022-09-06T16:19:31.715305Z",
     "iopub.status.idle": "2022-09-06T16:19:39.761798Z",
     "shell.execute_reply": "2022-09-06T16:19:39.760358Z",
     "shell.execute_reply.started": "2022-09-06T16:19:31.715762Z"
    }
   },
   "outputs": [],
   "source": [
    "# dist plot of women who smoke\n",
    "sns.displot(women['ALQ130'],kde=True)"
   ]
  },
  {
   "cell_type": "code",
   "execution_count": 21,
   "metadata": {
    "execution": {
     "iopub.execute_input": "2022-09-06T16:19:39.763605Z",
     "iopub.status.busy": "2022-09-06T16:19:39.763257Z",
     "iopub.status.idle": "2022-09-06T16:19:44.980392Z",
     "shell.execute_reply": "2022-09-06T16:19:44.979298Z",
     "shell.execute_reply.started": "2022-09-06T16:19:39.763573Z"
    }
   },
   "outputs": [],
   "source": [
    "# dist plot of men who smoke\n",
    "sns.displot(men['ALQ130'],kde=True)"
   ]
  },
  {
   "cell_type": "markdown",
   "metadata": {},
   "source": [
    "Proportion of women and men who don't smoke"
   ]
  },
  {
   "cell_type": "code",
   "execution_count": 22,
   "metadata": {
    "execution": {
     "iopub.execute_input": "2022-09-06T16:19:44.981694Z",
     "iopub.status.busy": "2022-09-06T16:19:44.981382Z",
     "iopub.status.idle": "2022-09-06T16:19:45.020392Z",
     "shell.execute_reply": "2022-09-06T16:19:45.019448Z",
     "shell.execute_reply.started": "2022-09-06T16:19:44.981664Z"
    }
   },
   "outputs": [],
   "source": [
    "print(women_dontsmoke)\n",
    "print(men_dontsmoke)"
   ]
  },
  {
   "cell_type": "markdown",
   "metadata": {},
   "source": [
    "Proportion of women and men who smoke"
   ]
  },
  {
   "cell_type": "code",
   "execution_count": 23,
   "metadata": {
    "execution": {
     "iopub.execute_input": "2022-09-06T16:19:45.023770Z",
     "iopub.status.busy": "2022-09-06T16:19:45.023252Z",
     "iopub.status.idle": "2022-09-06T16:19:45.061632Z",
     "shell.execute_reply": "2022-09-06T16:19:45.060618Z",
     "shell.execute_reply.started": "2022-09-06T16:19:45.023738Z"
    }
   },
   "outputs": [],
   "source": [
    "print(women_smoke)\n",
    "print(men_smoke)"
   ]
  },
  {
   "cell_type": "markdown",
   "metadata": {},
   "source": [
    "**No. of people who smoke vs total women and No. of people who smoke vs total men**\n",
    "\n",
    "It's conculded that men smoke more then women"
   ]
  },
  {
   "cell_type": "code",
   "execution_count": 24,
   "metadata": {
    "execution": {
     "iopub.execute_input": "2022-09-06T16:19:45.063272Z",
     "iopub.status.busy": "2022-09-06T16:19:45.062809Z",
     "iopub.status.idle": "2022-09-06T16:19:45.544119Z",
     "shell.execute_reply": "2022-09-06T16:19:45.542844Z",
     "shell.execute_reply.started": "2022-09-06T16:19:45.063238Z"
    }
   },
   "outputs": [],
   "source": [
    "# No. of people who smoke vs total women\n",
    "plt.figure(figsize=(8,6))\n",
    "\n",
    "# Add a main title\n",
    "plt.title(\"No. of People who smoke vs. total Women \\n\",fontsize=20, fontstyle='italic')\n",
    "\n",
    "# X- and Y-label with fontsize\n",
    "plt.xlabel(\"Smoked at least 100 cigarettes in life\",fontsize=16)\n",
    "plt.ylabel(\"Women Gender value\",fontsize=16)\n",
    "\n",
    "# Turn on grid\n",
    "plt.grid (True)\n",
    "\n",
    "# Set Y-axis limit\n",
    "plt.ylim(0,4)\n",
    "\n",
    "# X- and Y-axis ticks customization with fontsize and placement\n",
    "plt.xticks([i for i in range(12)],fontsize=15)\n",
    "plt.yticks(fontsize=15)\n",
    "\n",
    "# Main plotting function with choice of color, marker size, and marker edge color\n",
    "plt.scatter(x=women['SMQ020'],y=women['RIAGENDR'],c='orange',s=150,edgecolors='k')\n",
    "\n",
    "# Final show method\n",
    "plt.show()\n",
    "\n",
    "\n",
    "\n",
    "# No. of people who smoke vs total men\n",
    "\n",
    "plt.figure(figsize=(8,6))\n",
    "\n",
    "# Add a main title\n",
    "plt.title(\"No. of People who smoke vs. total Men \\n\",fontsize=20, fontstyle='italic')\n",
    "\n",
    "# X- and Y-label with fontsize\n",
    "plt.xlabel(\"Smoked at least 100 cigarettes in life\",fontsize=16)\n",
    "plt.ylabel(\"Men Gender value\",fontsize=16)\n",
    "\n",
    "# # Turn on grid\n",
    "plt.grid (True)\n",
    "\n",
    "# Set Y-axis limit\n",
    "plt.ylim(0,4)\n",
    "\n",
    "# X- and Y-axis ticks customization with fontsize and placement\n",
    "plt.xticks([i for i in range(12)],fontsize=15)\n",
    "plt.yticks(fontsize=15)\n",
    "\n",
    "# Main plotting function with choice of color, marker size, and marker edge color\n",
    "plt.scatter(x=men['SMQ020'],y=men['RIAGENDR'],c='orange',s=150,edgecolors='k')\n",
    "\n",
    "# Final show method\n",
    "plt.show()"
   ]
  },
  {
   "cell_type": "markdown",
   "metadata": {},
   "source": [
    "There are 1400 men who smoke cigarettes"
   ]
  },
  {
   "cell_type": "code",
   "execution_count": 25,
   "metadata": {
    "execution": {
     "iopub.execute_input": "2022-09-06T16:19:45.546011Z",
     "iopub.status.busy": "2022-09-06T16:19:45.545566Z",
     "iopub.status.idle": "2022-09-06T16:19:45.786821Z",
     "shell.execute_reply": "2022-09-06T16:19:45.785895Z",
     "shell.execute_reply.started": "2022-09-06T16:19:45.545969Z"
    }
   },
   "outputs": [],
   "source": [
    "men['SMQ020'].plot.hist(bins=20,figsize=(5,5),edgecolor='k')\n",
    "plt.xlabel('Smoke level of men')\n",
    "plt.show()"
   ]
  },
  {
   "cell_type": "markdown",
   "metadata": {},
   "source": [
    "There are approx 900 women who smoke cigerattes."
   ]
  },
  {
   "cell_type": "code",
   "execution_count": 26,
   "metadata": {
    "execution": {
     "iopub.execute_input": "2022-09-06T16:19:45.788582Z",
     "iopub.status.busy": "2022-09-06T16:19:45.788084Z",
     "iopub.status.idle": "2022-09-06T16:19:46.227570Z",
     "shell.execute_reply": "2022-09-06T16:19:46.226655Z",
     "shell.execute_reply.started": "2022-09-06T16:19:45.788550Z"
    }
   },
   "outputs": [],
   "source": [
    "women['SMQ020'].plot.hist(bins=20,figsize=(5,5),edgecolor='k')\n",
    "plt.xlabel('Smoke level of women')\n",
    "plt.show()"
   ]
  },
  {
   "cell_type": "code",
   "execution_count": 34,
   "metadata": {
    "execution": {
     "iopub.execute_input": "2022-09-06T16:28:47.939783Z",
     "iopub.status.busy": "2022-09-06T16:28:47.939403Z",
     "iopub.status.idle": "2022-09-06T16:28:47.947229Z",
     "shell.execute_reply": "2022-09-06T16:28:47.945766Z",
     "shell.execute_reply.started": "2022-09-06T16:28:47.939752Z"
    }
   },
   "outputs": [],
   "source": [
    "no_of_women=women.size\n",
    "print(\"No. of the women: \",no_of_women)\n",
    "no_of_men=men.size\n",
    "print(\"No. of the men: \",no_of_men)\n",
    "no_of_women_smoke=women_smoke.size\n",
    "print(\"No. of the women who smoke: \",no_of_women_smoke)\n",
    "no_of_men_smoke=men_smoke.size\n",
    "print(\"No. of the men who smoke: \",no_of_men_smoke)"
   ]
  },
  {
   "cell_type": "code",
   "execution_count": 36,
   "metadata": {
    "execution": {
     "iopub.execute_input": "2022-09-06T16:31:18.535142Z",
     "iopub.status.busy": "2022-09-06T16:31:18.534709Z",
     "iopub.status.idle": "2022-09-06T16:31:18.541543Z",
     "shell.execute_reply": "2022-09-06T16:31:18.540570Z",
     "shell.execute_reply.started": "2022-09-06T16:31:18.535101Z"
    }
   },
   "outputs": [],
   "source": [
    "ratio_of_men_smoke=no_of_men_smoke/no_of_men_smoke\n",
    "ratio_of_women_smoke=no_of_women_smoke/no_of_women\n",
    "estimated_no_of_women=(ratio_of_men_smoke/ratio_of_women_smoke)*no_of_men_smoke\n",
    "print(estimated_no_of_women)"
   ]
  },
  {
   "cell_type": "markdown",
   "metadata": {},
   "source": [
    "For the proportion of women who smoke is equal to the proportion of men who smoke hypothesis, number of women should be greater then number of men.\n",
    "\n",
    "For number of women who smoke number be 36738, needs 120675 total number of women.\n"
   ]
  },
  {
   "cell_type": "markdown",
   "metadata": {},
   "source": [
    "# **Answer 3**"
   ]
  },
  {
   "cell_type": "code",
   "execution_count": 28,
   "metadata": {
    "execution": {
     "iopub.execute_input": "2022-09-06T16:19:46.238217Z",
     "iopub.status.busy": "2022-09-06T16:19:46.237630Z",
     "iopub.status.idle": "2022-09-06T16:19:46.248899Z",
     "shell.execute_reply": "2022-09-06T16:19:46.247876Z",
     "shell.execute_reply.started": "2022-09-06T16:19:46.238182Z"
    }
   },
   "outputs": [],
   "source": [
    "# total number of education level size\n",
    "total=df['DMDEDUC2'].size\n",
    "\n",
    "# assume that for the graduated college DMDEDUC2 will be equal to 5.\n",
    "graduated=df[df['DMDEDUC2']==5]['DMDEDUC2'].size\n",
    "\n",
    "# printed the percentage of the datapoints in the population that have graduated college\n",
    "print(graduated/total*100)"
   ]
  },
  {
   "cell_type": "markdown",
   "metadata": {},
   "source": [
    "There are approx 1300 people who completed the graduation."
   ]
  },
  {
   "cell_type": "code",
   "execution_count": 29,
   "metadata": {
    "execution": {
     "iopub.execute_input": "2022-09-06T16:19:46.250472Z",
     "iopub.status.busy": "2022-09-06T16:19:46.250155Z",
     "iopub.status.idle": "2022-09-06T16:19:46.485299Z",
     "shell.execute_reply": "2022-09-06T16:19:46.484098Z",
     "shell.execute_reply.started": "2022-09-06T16:19:46.250443Z"
    }
   },
   "outputs": [],
   "source": [
    "# Plot a Histogram Showing Education Level - Adults 20+\n",
    "\n",
    "df['DMDEDUC2'].plot.hist(bins=20,figsize=(5,5),edgecolor='k')\n",
    "plt.xlabel('Education Level – Adults 20+')\n",
    "plt.show()"
   ]
  },
  {
   "cell_type": "markdown",
   "metadata": {},
   "source": [
    "Analyze (if any) the relationship between Education Level (DMDEDUC2) and Ratio of family income to poverty (INDFMPIR)"
   ]
  },
  {
   "cell_type": "markdown",
   "metadata": {},
   "source": [
    "As the education level increases, the Ration of family income to poverty increases."
   ]
  },
  {
   "cell_type": "code",
   "execution_count": 30,
   "metadata": {
    "execution": {
     "iopub.execute_input": "2022-09-06T16:19:46.486960Z",
     "iopub.status.busy": "2022-09-06T16:19:46.486610Z",
     "iopub.status.idle": "2022-09-06T16:19:47.090212Z",
     "shell.execute_reply": "2022-09-06T16:19:47.088752Z",
     "shell.execute_reply.started": "2022-09-06T16:19:46.486911Z"
    }
   },
   "outputs": [],
   "source": [
    "# computes and plots the linear regression fit along with confidence interval\n",
    "\n",
    "sns.regplot(x='DMDEDUC2',y='INDFMPIR',data=df)\n",
    "plt.show()"
   ]
  }
 ],
 "metadata": {
  "kernelspec": {
   "display_name": "Python 3 (ipykernel)",
   "language": "python",
   "name": "python3"
  },
  "language_info": {
   "codemirror_mode": {
    "name": "ipython",
    "version": 3
   },
   "file_extension": ".py",
   "mimetype": "text/x-python",
   "name": "python",
   "nbconvert_exporter": "python",
   "pygments_lexer": "ipython3",
   "version": "3.10.6"
  }
 },
 "nbformat": 4,
 "nbformat_minor": 4
}
